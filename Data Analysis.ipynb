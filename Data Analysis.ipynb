{
    "cells": [
        {
            "cell_type": "markdown",
            "metadata": {},
            "source": "# Desciption\nThis is a Jupyter Notebook for Data Analysis"
        },
        {
            "cell_type": "code",
            "execution_count": 1,
            "metadata": {},
            "outputs": [
                {
                    "data": {
                        "text/html": "<div>\n<style scoped>\n    .dataframe tbody tr th:only-of-type {\n        vertical-align: middle;\n    }\n\n    .dataframe tbody tr th {\n        vertical-align: top;\n    }\n\n    .dataframe thead th {\n        text-align: right;\n    }\n</style>\n<table border=\"1\" class=\"dataframe\">\n  <thead>\n    <tr style=\"text-align: right;\">\n      <th></th>\n      <th>tweet_id</th>\n      <th>airline_sentiment</th>\n      <th>airline_sentiment_confidence</th>\n      <th>negativereason</th>\n      <th>negativereason_confidence</th>\n      <th>airline</th>\n      <th>name</th>\n      <th>retweet_count</th>\n      <th>text</th>\n      <th>tweet_created</th>\n      <th>latitude</th>\n      <th>longitude</th>\n    </tr>\n  </thead>\n  <tbody>\n    <tr>\n      <th>0</th>\n      <td>5.703061e+17</td>\n      <td>neutral</td>\n      <td>1.0000</td>\n      <td>NaN</td>\n      <td>NaN</td>\n      <td>Virgin America</td>\n      <td>cairdin</td>\n      <td>0</td>\n      <td>@VirginAmerica What @dhepburn said.</td>\n      <td>2015-02-24 11:35:52 -0800</td>\n      <td>35.888455</td>\n      <td>-119.273781</td>\n    </tr>\n    <tr>\n      <th>1</th>\n      <td>5.703011e+17</td>\n      <td>positive</td>\n      <td>0.3486</td>\n      <td>NaN</td>\n      <td>0.0000</td>\n      <td>Virgin America</td>\n      <td>jnardino</td>\n      <td>0</td>\n      <td>@VirginAmerica plus you've added commercials t...</td>\n      <td>2015-02-24 11:15:59 -0800</td>\n      <td>37.770971</td>\n      <td>-119.941025</td>\n    </tr>\n    <tr>\n      <th>2</th>\n      <td>5.703011e+17</td>\n      <td>neutral</td>\n      <td>0.6837</td>\n      <td>NaN</td>\n      <td>NaN</td>\n      <td>Virgin America</td>\n      <td>yvonnalynn</td>\n      <td>0</td>\n      <td>@VirginAmerica I didn't today... Must mean I n...</td>\n      <td>2015-02-24 11:15:48 -0800</td>\n      <td>35.684863</td>\n      <td>-119.709299</td>\n    </tr>\n    <tr>\n      <th>3</th>\n      <td>5.703010e+17</td>\n      <td>negative</td>\n      <td>1.0000</td>\n      <td>Bad Flight</td>\n      <td>0.7033</td>\n      <td>Virgin America</td>\n      <td>jnardino</td>\n      <td>0</td>\n      <td>@VirginAmerica it's really aggressive to blast...</td>\n      <td>2015-02-24 11:15:36 -0800</td>\n      <td>37.061159</td>\n      <td>-119.279135</td>\n    </tr>\n    <tr>\n      <th>4</th>\n      <td>5.703008e+17</td>\n      <td>negative</td>\n      <td>1.0000</td>\n      <td>Can't Tell</td>\n      <td>1.0000</td>\n      <td>Virgin America</td>\n      <td>jnardino</td>\n      <td>0</td>\n      <td>@VirginAmerica and it's a really big bad thing...</td>\n      <td>2015-02-24 11:14:45 -0800</td>\n      <td>36.790587</td>\n      <td>-120.867752</td>\n    </tr>\n  </tbody>\n</table>\n</div>",
                        "text/plain": "       tweet_id airline_sentiment  airline_sentiment_confidence  \\\n0  5.703061e+17           neutral                        1.0000   \n1  5.703011e+17          positive                        0.3486   \n2  5.703011e+17           neutral                        0.6837   \n3  5.703010e+17          negative                        1.0000   \n4  5.703008e+17          negative                        1.0000   \n\n  negativereason  negativereason_confidence         airline        name  \\\n0            NaN                        NaN  Virgin America     cairdin   \n1            NaN                     0.0000  Virgin America    jnardino   \n2            NaN                        NaN  Virgin America  yvonnalynn   \n3     Bad Flight                     0.7033  Virgin America    jnardino   \n4     Can't Tell                     1.0000  Virgin America    jnardino   \n\n   retweet_count                                               text  \\\n0              0                @VirginAmerica What @dhepburn said.   \n1              0  @VirginAmerica plus you've added commercials t...   \n2              0  @VirginAmerica I didn't today... Must mean I n...   \n3              0  @VirginAmerica it's really aggressive to blast...   \n4              0  @VirginAmerica and it's a really big bad thing...   \n\n               tweet_created   latitude   longitude  \n0  2015-02-24 11:35:52 -0800  35.888455 -119.273781  \n1  2015-02-24 11:15:59 -0800  37.770971 -119.941025  \n2  2015-02-24 11:15:48 -0800  35.684863 -119.709299  \n3  2015-02-24 11:15:36 -0800  37.061159 -119.279135  \n4  2015-02-24 11:14:45 -0800  36.790587 -120.867752  "
                    },
                    "execution_count": 1,
                    "metadata": {},
                    "output_type": "execute_result"
                }
            ],
            "source": "# The code was removed by Watson Studio for sharing."
        },
        {
            "cell_type": "code",
            "execution_count": null,
            "metadata": {},
            "outputs": [],
            "source": ""
        },
        {
            "cell_type": "code",
            "execution_count": null,
            "metadata": {},
            "outputs": [],
            "source": ""
        }
    ],
    "metadata": {
        "kernelspec": {
            "display_name": "Python 3.6",
            "language": "python",
            "name": "python3"
        },
        "language_info": {
            "codemirror_mode": {
                "name": "ipython",
                "version": 3
            },
            "file_extension": ".py",
            "mimetype": "text/x-python",
            "name": "python",
            "nbconvert_exporter": "python",
            "pygments_lexer": "ipython3",
            "version": "3.6.9"
        }
    },
    "nbformat": 4,
    "nbformat_minor": 1
}